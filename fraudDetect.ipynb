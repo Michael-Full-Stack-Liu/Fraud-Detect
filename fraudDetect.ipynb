{
 "cells": [
  {
   "cell_type": "code",
   "execution_count": null,
   "id": "563e738e",
   "metadata": {},
   "outputs": [],
   "source": [
    "import sqlite3\n",
    "import pandas as pd"
   ]
  },
  {
   "cell_type": "code",
   "execution_count": null,
   "id": "fd0501ea",
   "metadata": {},
   "outputs": [],
   "source": [
    "from imblearn.over_sampling import SMOTE"
   ]
  },
  {
   "cell_type": "code",
   "execution_count": null,
   "id": "fe6e7ac9",
   "metadata": {},
   "outputs": [],
   "source": [
    "import numpy as np\n",
    "from xgboost import XGBClassifier\n",
    "from sklearn.model_selection import train_test_split, GridSearchCV, RandomizedSearchCV\n",
    "from sklearn.metrics import classification_report, roc_auc_score, roc_curve,f1_score, precision_score,recall_score,precision_recall_curve\n",
    "import matplotlib.pyplot as plt\n",
    "import joblib"
   ]
  },
  {
   "cell_type": "code",
   "execution_count": null,
   "id": "286aacd0",
   "metadata": {},
   "outputs": [],
   "source": [
    "from scipy.stats import uniform"
   ]
  },
  {
   "cell_type": "code",
   "execution_count": null,
   "id": "d4ed8a2c",
   "metadata": {},
   "outputs": [],
   "source": [
    "from sklearn.preprocessing import StandardScaler\n",
    "import pickle\n",
    "import json"
   ]
  },
  {
   "cell_type": "code",
   "execution_count": null,
   "id": "2969c6d8",
   "metadata": {},
   "outputs": [],
   "source": [
    "conn = sqlite3.connect('fraud_detection.db')\n",
    "#when only query, no need cursor.   cursor = conn.cursor()\n",
    "\n",
    "df = pd.read_csv('creditcard.csv')\n",
    "df.to_sql('transactions', conn, if_exists='replace', index=False)\n",
    "\n",
    "query = \"\"\"\n",
    "SELECT * FROM transactions \n",
    "WHERE Amount > 0\n",
    "\"\"\"\n",
    "data = pd.read_sql_query(query, conn)\n",
    "\n",
    "conn.close()\n",
    "\n",
    "print(data.head())\n",
    "# This code connects to a SQLite database, reads a CSV file into a DataFrame,\n",
    "# and executes a SQL query to retrieve transactions with a positive amount.\n",
    "print(data['Class'].value_counts())"
   ]
  },
  {
   "cell_type": "code",
   "execution_count": null,
   "id": "7b12f890",
   "metadata": {},
   "outputs": [],
   "source": [
    "print(data.isnull().sum()) #check for null values\n",
    "data['Class'] = data['Class'].astype('int') #make sure Class is int\n",
    "\n",
    "Q1 = data['Amount'].quantile(0.25)\n",
    "Q3 = data['Amount'].quantile(0.75)\n",
    "IQR = Q3 - Q1\n",
    "outliners = data[(data['Amount'] < (Q1 - 1.5 * IQR)) | (data['Amount'] > (Q3 + 1.5 * IQR))]\n",
    "print(f\"Number of outliners: {len(outliners)}\") # check for outliners in Amount column\n",
    "# these outliners may be frauds, so we will keep them for now"
   ]
  },
  {
   "cell_type": "code",
   "execution_count": null,
   "id": "441a3013",
   "metadata": {},
   "outputs": [],
   "source": [
    "# Convert Time to Hour and create Is_Night feature\n",
    "data['Hour'] = data['Time'] // 3600 % 24  # Convert Time to Hour (0-23)\n",
    "data['Is_Night'] = data['Hour'].apply(lambda x: 1 if 0<= x <= 6 else 0)\n",
    "\n",
    "# Amount feature engineering, scaling and binning for better model performance\n",
    "\n",
    "scaler = StandardScaler()\n",
    "\n",
    "# standardize the Amount feature\n",
    "data['Amount_Scaled'] = scaler.fit_transform(data[['Amount']])\n",
    "data['Amount_high'] = data['Amount'].apply(lambda x: 1 if x > 300 else 0)\n",
    "# save scaler.pkl\n",
    "with open(\"scaler.pkl\", \"wb\") as f:\n",
    "    pickle.dump(scaler, f)\n",
    "\n",
    "print(\"scaler.pkl saved！\")\n",
    "\n",
    "print(data.head(5))  # Display summary statistics of the DataFrame"
   ]
  },
  {
   "cell_type": "code",
   "execution_count": null,
   "id": "62441f0c",
   "metadata": {},
   "outputs": [],
   "source": [
    "# Resampling using SMOTE, to handle class imbalance, improve model performance,\n",
    "# and ensure the model is not biased towards the majority class\n",
    "# but may increase the risk of overfitting, need to compare with scale_pos_weight\n",
    "x = data.drop(['Class', 'Time'], axis=1)\n",
    "y = data['Class']\n",
    "smote = SMOTE(random_state=42)\n",
    "x_resampled, y_resampled = smote.fit_resample(x, y)\n",
    "print(f\"resampled class distribution:\\n{y_resampled.value_counts()}\")\n",
    "x_resampled.to_csv('x_resampled.csv', index=False)\n",
    "y_resampled.to_csv('y_resampled.csv', index=False)"
   ]
  },
  {
   "cell_type": "code",
   "execution_count": null,
   "id": "bf0c98ab",
   "metadata": {},
   "outputs": [],
   "source": [
    "# 1. load smote data\n",
    "X = pd.read_csv('x_resampled.csv')\n",
    "y = pd.read_csv('y_resampled.csv').values.ravel()\n",
    "X_train, X_test, y_train, y_test = train_test_split(X, y, test_size=0.2, random_state=42)\n",
    "print(\"SMOTE train shape：\", X_train.shape)\n",
    "print(\"SMOTE test shape：\", X_test.shape)\n",
    "\n",
    "# 2. smote model training and evaluation\n",
    "model_smote = XGBClassifier(random_state=42)  # default：n_estimators=100, max_depth=6, learning_rate=0.3\n",
    "model_smote.fit(X_train, y_train)\n",
    "y_pred_smote = model_smote.predict(X_test)\n",
    "print(\"\\nsolution1：SMOTE（default） - report：\")\n",
    "print(classification_report(y_test, y_pred_smote))\n",
    "print(f\"solution1 AUC-ROC: {roc_auc_score(y_test, model_smote.predict_proba(X_test)[:, 1])}\")\n",
    "# check if overfitting\n",
    "print(\"SMOTE train F1：\", f1_score(y_train, model_smote.predict(X_train)))\n",
    "print(\"SMOTE test F1：\", f1_score(y_test, y_pred_smote))\n",
    "\n"
   ]
  },
  {
   "cell_type": "code",
   "execution_count": null,
   "id": "ef9389a2",
   "metadata": {},
   "outputs": [],
   "source": [
    "# 3. solution2 original data + scale_pos_weight\n",
    "data = pd.read_csv('creditcard.csv')\n",
    "data['Hour'] = (data['Time'] // 3600) % 24\n",
    "data['Is_Night'] = data['Hour'].apply(lambda x: 1 if 0 <= x <= 6 else 0)\n",
    "data['Amount_Scaled'] = StandardScaler().fit_transform(data[['Amount']])\n",
    "data['Amount_high'] = data['Amount_Scaled'].apply(lambda x: 1 if x > 500 else 0)\n",
    "X_orig = data.drop(['Class', 'Time'], axis=1)\n",
    "y_orig = data['Class']\n",
    "\n",
    "X_train_orig, X_test_orig, y_train_orig, y_test_orig = train_test_split(X_orig, y_orig, test_size=0.2, random_state=42)\n",
    "fraud_ratio = len(y_train_orig[y_train_orig == 0]) / len(y_train_orig[y_train_orig == 1])\n",
    "model_spw = XGBClassifier(scale_pos_weight=2*fraud_ratio, random_state=42)  # increase scale_pos_weight to handle class imbalance\n",
    "model_spw.fit(X_train_orig, y_train_orig)\n",
    "y_pred_spw = model_spw.predict(X_test_orig)\n",
    "print(\"\\nsolution2：scale_pos_weight（default） - report：\")\n",
    "print(classification_report(y_test_orig, y_pred_spw))\n",
    "print(f\"solution2 AUC-ROC: {roc_auc_score(y_test_orig, model_spw.predict_proba(X_test_orig)[:, 1])}\")\n",
    "# check if overfitting\n",
    "print(\"scale_pos_weight train F1：\", f1_score(y_train_orig, model_spw.predict(X_train_orig)))\n",
    "print(\"scale_pos_weight test F1：\", f1_score(y_test_orig, y_pred_spw))"
   ]
  },
  {
   "cell_type": "code",
   "execution_count": null,
   "id": "c6e8c1db",
   "metadata": {},
   "outputs": [],
   "source": [
    "# 4. optimize （RandomizedSearchCV，optimize recall）\n",
    "param_grid = {\n",
    "    'n_estimators': [50, 100, 150, 200],\n",
    "    'max_depth': [3, 4, 5, 6],\n",
    "    'learning_rate': uniform(0.01, 0.3),  # use uniform distribution\n",
    "}\n",
    "random_search = RandomizedSearchCV(XGBClassifier(random_state=42), param_grid, n_iter=20, cv=5, scoring='recall', n_jobs=-1)\n",
    "random_search.fit(X_train, y_train)\n",
    "print(\"\\nBEST prarmater（SMOTE，optimize recall）：\", random_search.best_params_)\n",
    "print(\"Best Recall score：\", random_search.best_score_)\n",
    "model_best = random_search.best_estimator_"
   ]
  },
  {
   "cell_type": "code",
   "execution_count": null,
   "id": "9c36d1bb",
   "metadata": {},
   "outputs": [],
   "source": [
    "# evaluate model（modify threshold to 0.3）defaule threshhold 0.5\n",
    "# y_pred = model_best.predict(X_test)   \n",
    "y_pred_best = (model_best.predict_proba(X_test)[:, 1] > 0.3).astype(int)\n",
    "print(\"\\noptimized model（SMOTE，threshold 0.3） - report：\")\n",
    "print(classification_report(y_test, y_pred_best))\n",
    "print(f\"optimized AUC-ROC: {roc_auc_score(y_test, model_best.predict_proba(X_test)[:, 1])}\")\n",
    "# 检查过拟合\n",
    "print(\"Optimized train F1：\", f1_score(y_train, model_best.predict(X_train)))\n",
    "print(\"Optimized test F1：\", f1_score(y_test, y_pred_best))"
   ]
  },
  {
   "cell_type": "code",
   "execution_count": null,
   "id": "478fa05c",
   "metadata": {},
   "outputs": [],
   "source": [
    "# 5. feature importance\n",
    "importance = pd.Series(model_best.feature_importances_, index=X_train.columns).sort_values(ascending=False)\n",
    "plt.figure(figsize=(10, 6))\n",
    "importance[:10].plot(kind='bar')\n",
    "plt.title('feature importance（XGBoost - SMOTE optimized）')\n",
    "plt.xlabel('feature')\n",
    "plt.ylabel('importance')\n",
    "plt.savefig('feature_importance.png')\n",
    "plt.close()\n",
    "pd.DataFrame({'Feature': X_train.columns, 'Importance': model_best.feature_importances_}).to_csv('feature_importance.csv', index=False)\n",
    "print(\"\\nTop 10 importance：\")\n",
    "print(importance[:10])"
   ]
  },
  {
   "cell_type": "code",
   "execution_count": null,
   "id": "4bca0313",
   "metadata": {},
   "outputs": [],
   "source": [
    "# 6. model save（base recall）\n",
    "final_model = model_best\n",
    "\n",
    "joblib.dump(final_model, 'fraud_model.pkl')\n"
   ]
  },
  {
   "cell_type": "code",
   "execution_count": null,
   "id": "e03a7f42",
   "metadata": {},
   "outputs": [],
   "source": [
    "data = pd.read_csv(\"creditcard.csv\")\n",
    "X = data.drop(columns=['Class', 'Time'])  # drop Class and Time columns\n",
    "with open(\"X_mean.json\", \"w\") as f:\n",
    "    json.dump(X.mean().to_dict(), f)\n"
   ]
  }
 ],
 "metadata": {
  "kernelspec": {
   "display_name": "Python 3",
   "language": "python",
   "name": "python3"
  },
  "language_info": {
   "codemirror_mode": {
    "name": "ipython",
    "version": 3
   },
   "file_extension": ".py",
   "mimetype": "text/x-python",
   "name": "python",
   "nbconvert_exporter": "python",
   "pygments_lexer": "ipython3",
   "version": "3.13.1"
  }
 },
 "nbformat": 4,
 "nbformat_minor": 5
}
